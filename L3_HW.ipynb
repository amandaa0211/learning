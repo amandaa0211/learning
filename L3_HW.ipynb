{
  "nbformat": 4,
  "nbformat_minor": 0,
  "metadata": {
    "colab": {
      "name": "ML_L3_HW.ipynb",
      "version": "0.3.2",
      "provenance": []
    },
    "kernelspec": {
      "name": "python3",
      "display_name": "Python 3"
    }
  },
  "cells": [
    {
      "cell_type": "code",
      "metadata": {
        "id": "he00bLxc63-k",
        "colab_type": "code",
        "outputId": "4b2a1e27-6877-40bc-c30b-c543388e829e",
        "colab": {
          "base_uri": "https://localhost:8080/",
          "height": 105
        }
      },
      "source": [
        "# -*- coding: utf-8 -*-\n",
        "\"\"\"\n",
        "Created on Sun May 19 00:45:16 2019\n",
        "\n",
        "@author: USER\n",
        "\"\"\"\n",
        "\n",
        "from sklearn.tree import DecisionTreeClassifier\n",
        "from sklearn.model_selection import train_test_split\n",
        "from sklearn.datasets import load_breast_cancer\n",
        "import pandas as pd\n",
        "from sklearn.metrics import accuracy_score\n",
        "from sklearn.ensemble import RandomForestClassifier\n",
        "\n",
        "# load the breast_cancer dataset\n",
        "init_data = load_breast_cancer()\n",
        "(X, y) = load_breast_cancer(return_X_y=True)\n",
        "X = pd.DataFrame(data=X, columns=init_data['feature_names'])\n",
        "y = pd.DataFrame(data=y, columns=['label'])\n",
        "\n",
        "# split X into training and testing sets\n",
        "X_train, X_test, y_train, y_test = train_test_split(X, y, test_size=0.3, random_state=0)\n",
        "\n",
        "# Train a RandomForestClassifier as model \n",
        "forest = RandomForestClassifier(criterion='entropy',\n",
        "                                n_estimators=200, \n",
        "                                random_state=1,\n",
        "                               n_jobs=2)\n",
        "\n",
        "forest.fit(X_train, y_train)\n",
        "\n",
        "\n",
        "y_pred = forest.predict(X_test)\n",
        "\n",
        "\n",
        "# inline plotting instead of popping out\n",
        "#%matplotlib inline\n",
        "\n",
        "import numpy as np\n",
        "import matplotlib.pyplot as plt\n",
        "\n",
        "importances = forest.feature_importances_\n",
        "# get sort indices in descending order\n",
        "indices = np.argsort(importances)[::-1]\n",
        "from sklearn.feature_selection import SelectFromModel\n",
        "\n",
        "# put prefitted RandomForestClassifier \"forest\" into SelectFromModel\n",
        "sfm = SelectFromModel(forest, threshold=0.117, prefit=True)\n",
        "Z_forest_alt = sfm.transform(X)\n",
        "\n",
        "\n",
        "\n",
        "X_new = pd.DataFrame(data=Z_forest_alt)\n",
        "\n",
        "# split X into training and testing sets\n",
        "X_train, X_test, y_train, y_test = train_test_split(X_new, y, test_size=0.14, random_state=0)\n",
        "forest = RandomForestClassifier(criterion='entropy',\n",
        "                                n_estimators=200, \n",
        "                                random_state=1,\n",
        "                               n_jobs=2)\n",
        "forest.fit(X_train, y_train)\n",
        "y_pred = forest.predict(X_test)\n",
        "#for f in range(Z_forest_alt.shape[1]): #mdf\n",
        "#    print(\"%2d) %-*s %f\" % (f + 1, 30, \n",
        "#                            X.columns.values[indices[f]], \n",
        "##                            importances[indices[f]]))\n",
        "\n",
        "print('Accuracy: %.2f' % accuracy_score(y_test, y_pred))\n",
        "print('Accuracy per feature: %.2f' % (accuracy_score(y_test, y_pred)/X_new.shape[1]))"
      ],
      "execution_count": 2,
      "outputs": [
        {
          "output_type": "stream",
          "text": [
            "/usr/local/lib/python3.6/dist-packages/ipykernel_launcher.py:29: DataConversionWarning: A column-vector y was passed when a 1d array was expected. Please change the shape of y to (n_samples,), for example using ravel().\n",
            "/usr/local/lib/python3.6/dist-packages/ipykernel_launcher.py:60: DataConversionWarning: A column-vector y was passed when a 1d array was expected. Please change the shape of y to (n_samples,), for example using ravel().\n"
          ],
          "name": "stderr"
        },
        {
          "output_type": "stream",
          "text": [
            "Accuracy: 0.94\n",
            "Accuracy per feature: 0.47\n"
          ],
          "name": "stdout"
        }
      ]
    }
  ]
}