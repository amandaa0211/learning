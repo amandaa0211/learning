{
  "nbformat": 4,
  "nbformat_minor": 0,
  "metadata": {
    "colab": {
      "name": "L8_crossvalidation+ensembling（未完成）.ipynb",
      "version": "0.3.2",
      "provenance": [],
      "collapsed_sections": []
    },
    "kernelspec": {
      "name": "python3",
      "display_name": "Python 3"
    }
  },
  "cells": [
    {
      "cell_type": "code",
      "metadata": {
        "id": "3oUhU_ZUkWFO",
        "colab_type": "code",
        "colab": {}
      },
      "source": [
        "from sklearn.datasets import load_iris\n",
        "from sklearn.model_selection import train_test_split\n",
        "from sklearn.preprocessing import StandardScaler\n",
        "import numpy as np\n",
        "\n",
        "iris = load_iris()\n",
        "X, y = iris.data[:,[1,2]], iris.target\n",
        "\n",
        "# hold out testing set\n",
        "X_train, X_test, y_train, y_test = train_test_split(X, y, test_size=0.3, random_state=0)\n",
        "# hold out validation set\n",
        "X_train, X_val, y_train, y_val = train_test_split(X_train, y_train, test_size=0.3, random_state=0)"
      ],
      "execution_count": 0,
      "outputs": []
    },
    {
      "cell_type": "code",
      "metadata": {
        "id": "-hvA7tW6qCWJ",
        "colab_type": "code",
        "colab": {
          "base_uri": "https://localhost:8080/",
          "height": 153
        },
        "outputId": "2d9d0b57-26f2-4411-b8be-cc01dd562da9"
      },
      "source": [
        "from sklearn.pipeline import Pipeline\n",
        "from sklearn.neighbors import KNeighborsClassifier\n",
        "from sklearn.metrics import accuracy_score\n",
        "\n",
        "best_k, best_score = -1, -1\n",
        "clfs = {}\n",
        "\n",
        "# hyperparameter tuning\n",
        "for k in [1, 15, 50]: \n",
        "    pipe = Pipeline([['sc', StandardScaler()], ['clf', KNeighborsClassifier(n_neighbors=k)]])\n",
        "    pipe.fit(X_train, y_train)\n",
        "    y_pred = pipe.predict(X_val)\n",
        "    score = accuracy_score(y_val, y_pred)\n",
        "    print('[{}-NN]\\nValidation accuracy: {}'.format(k, score))\n",
        "    if score > best_score:\n",
        "        best_k, best_score = k, score\n",
        "    clfs[k] = pipe\n",
        "    \n",
        "# performance reporting\n",
        "y_pred= clfs[best_k].predict(X_test)\n",
        "print('\\nTest accuracy: %.2f (n_neighbors=%d selected by the holdout method)' % \n",
        "      (accuracy_score(y_test, y_pred), best_k))"
      ],
      "execution_count": 2,
      "outputs": [
        {
          "output_type": "stream",
          "text": [
            "[1-NN]\n",
            "Validation accuracy: 0.9375\n",
            "[15-NN]\n",
            "Validation accuracy: 0.90625\n",
            "[50-NN]\n",
            "Validation accuracy: 0.4375\n",
            "\n",
            "Test accuracy: 0.89 (n_neighbors=1 selected by the holdout method)\n"
          ],
          "name": "stdout"
        }
      ]
    },
    {
      "cell_type": "code",
      "metadata": {
        "id": "nA1wYIWysfGW",
        "colab_type": "code",
        "colab": {
          "base_uri": "https://localhost:8080/",
          "height": 34
        },
        "outputId": "742769e2-f332-4687-ba93-73a695f6bd92"
      },
      "source": [
        "y_pred= clfs[15].predict(X_test)\n",
        "print('Test accuracy: %.2f (n_neighbors=15 selected manually)' % \n",
        "      accuracy_score(y_test, y_pred))\n",
        "#We can see that the validation set is unrepresentative and leads to indistinguishable validation accuracy scores\n",
        "#(1.0) for all values of n_neighbors."
      ],
      "execution_count": 3,
      "outputs": [
        {
          "output_type": "stream",
          "text": [
            "Test accuracy: 0.91 (n_neighbors=15 selected manually)\n"
          ],
          "name": "stdout"
        }
      ]
    },
    {
      "cell_type": "code",
      "metadata": {
        "id": "V_BhHMJSsgp-",
        "colab_type": "code",
        "colab": {}
      },
      "source": [
        "#We can apply K-fold CV to either the hyperparameter tuning, performance reporting, or both. \n",
        "#The advantage of this approach is that the performance is less sensitive to unfortunate splits of data. \n",
        "#In addition, it utilize data better since each example can be used for both training and validation/testing.\n",
        "from sklearn.model_selection import cross_val_score\n",
        "\n",
        "iris = load_iris()\n",
        "X, y = iris.data[:,[1,2]], iris.target\n",
        "\n",
        "# hold out testing set\n",
        "X_train, X_test, y_train, y_test = train_test_split(X, y, test_size=0.3, random_state=1)"
      ],
      "execution_count": 0,
      "outputs": []
    },
    {
      "cell_type": "code",
      "metadata": {
        "id": "Gj6M9xMYteDC",
        "colab_type": "code",
        "colab": {
          "base_uri": "https://localhost:8080/",
          "height": 119
        },
        "outputId": "d28ac32d-4501-46ee-e0e7-75b559f22958"
      },
      "source": [
        "best_k, best_score = -1, -1\n",
        "clfs = {}\n",
        "\n",
        "for k in [1, 15, 50]: # experiment different hyperparameter\n",
        "    pipe = Pipeline([['sc', StandardScaler()], ['clf', KNeighborsClassifier(n_neighbors=k)]])\n",
        "    pipe.fit(X_train, y_train)\n",
        "    # K-Fold CV\n",
        "    scores = cross_val_score(pipe, X_train, y_train, cv=5)\n",
        "    print('[%d-NN]\\nValidation accuracy: %.3f %s' % (k, scores.mean(), scores))\n",
        "    if scores.mean() > best_score:\n",
        "        best_k, best_score = k, scores.mean()\n",
        "    clfs[k] = pipe"
      ],
      "execution_count": 5,
      "outputs": [
        {
          "output_type": "stream",
          "text": [
            "[1-NN]\n",
            "Validation accuracy: 0.894 [0.91304348 0.95454545 0.85       0.85       0.9       ]\n",
            "[15-NN]\n",
            "Validation accuracy: 0.914 [0.95652174 0.86363636 0.85       0.9        1.        ]\n",
            "[50-NN]\n",
            "Validation accuracy: 0.801 [0.73913043 0.86363636 0.75       0.75       0.9       ]\n"
          ],
          "name": "stdout"
        }
      ]
    },
    {
      "cell_type": "code",
      "metadata": {
        "id": "de9YYh-du04p",
        "colab_type": "code",
        "colab": {
          "base_uri": "https://localhost:8080/",
          "height": 34
        },
        "outputId": "1d137d2e-3b36-4d57-ad69-6e42817d7d31"
      },
      "source": [
        "#Once selecting proper hyperparameter values, \n",
        "#we retrain the model on the complete training set and obtain a final performance estimate on the test set:\n",
        "best_clf = clfs[best_k]\n",
        "best_clf.fit(X_train, y_train)\n",
        "# performance reporting\n",
        "y_pred = best_clf.predict(X_test)\n",
        "print('Test accuracy: %.2f (n_neighbors=%d selected by 5-fold CV)' % \n",
        "      (accuracy_score(y_test, y_pred), best_k))"
      ],
      "execution_count": 6,
      "outputs": [
        {
          "output_type": "stream",
          "text": [
            "Test accuracy: 0.93 (n_neighbors=15 selected by 5-fold CV)\n"
          ],
          "name": "stdout"
        }
      ]
    },
    {
      "cell_type": "code",
      "metadata": {
        "id": "48Mclk-OvjiX",
        "colab_type": "code",
        "colab": {
          "base_uri": "https://localhost:8080/",
          "height": 221
        },
        "outputId": "b8b3dba6-67e9-4c59-e465-10626d137635"
      },
      "source": [
        "#We can also apply the K-fold CV to both the hyperparameter selection and performance reporting at the same time, \n",
        "#this is called the nested CV. Following illustrate the 5×2 nested CV:\n",
        "#where we select the values of hyperparameters by 2-fold CV and estimate the generalized performance by 5-fold CV, respectively.\n",
        "from sklearn.model_selection import KFold\n",
        "outer_cv = KFold(n_splits=5, shuffle=True, random_state=1)\n",
        "inner_cv = KFold(n_splits=10, shuffle=True, random_state=1)\n",
        "outer_scores = []\n",
        "# outer folds\n",
        "for i, (train_idx, test_idx) in enumerate(outer_cv.split(X, y)): \n",
        "    print('[Outer fold %d/5]' % (i + 1))\n",
        "    X_train, X_test = X[train_idx], X[test_idx]\n",
        "    y_train, y_test = y[train_idx], y[test_idx]\n",
        "    \n",
        "    best_k, best_score = -1, -1\n",
        "    clfs = {}\n",
        "    # hyperparameter tuning \n",
        "    for k in [1, 15, 50]:\n",
        "        inner_scores = []\n",
        "        # inner folds\n",
        "        for itrain_idx, val_idx in inner_cv.split(X_train, y_train):\n",
        "            X_itrain, X_val = X_train[itrain_idx], X_train[val_idx]\n",
        "            y_itrain, y_val = y_train[itrain_idx], y_train[val_idx]\n",
        "            \n",
        "            pipe = Pipeline([['sc', StandardScaler()],\n",
        "                             ['clf', KNeighborsClassifier(n_neighbors=k)]])\n",
        "            pipe.fit(X_itrain, y_itrain)\n",
        "            \n",
        "            y_pred = pipe.predict(X_val)\n",
        "            inner_scores.append(accuracy_score(y_val, y_pred))\n",
        "        score_mean = np.mean(inner_scores)\n",
        "        if best_score < score_mean:\n",
        "            best_k, best_score = k, score_mean\n",
        "        clfs[k] = pipe\n",
        "        \n",
        "    # evaluate performance on test fold\n",
        "    best_clf = clfs[best_k]\n",
        "    best_clf.fit(X_train, y_train)    \n",
        "    y_pred = best_clf.predict(X_test)\n",
        "    outer_scores.append(accuracy_score(y_test, y_pred))\n",
        "    print('Test accuracy: %.2f (n_neighbors=%d selected by inner 10-fold CV)' % \n",
        "                  (outer_scores[i], best_k))\n",
        "\n",
        "print('\\nTest accuracy: %.2f (5x10 nested CV)' % np.mean(outer_scores))"
      ],
      "execution_count": 7,
      "outputs": [
        {
          "output_type": "stream",
          "text": [
            "[Outer fold 1/5]\n",
            "Test accuracy: 0.90 (n_neighbors=1 selected by inner 10-fold CV)\n",
            "[Outer fold 2/5]\n",
            "Test accuracy: 0.90 (n_neighbors=15 selected by inner 10-fold CV)\n",
            "[Outer fold 3/5]\n",
            "Test accuracy: 0.90 (n_neighbors=15 selected by inner 10-fold CV)\n",
            "[Outer fold 4/5]\n",
            "Test accuracy: 0.93 (n_neighbors=15 selected by inner 10-fold CV)\n",
            "[Outer fold 5/5]\n",
            "Test accuracy: 1.00 (n_neighbors=15 selected by inner 10-fold CV)\n",
            "\n",
            "Test accuracy: 0.93 (5x10 nested CV)\n"
          ],
          "name": "stdout"
        }
      ]
    },
    {
      "cell_type": "code",
      "metadata": {
        "id": "c5maeSsMyrKM",
        "colab_type": "code",
        "colab": {
          "base_uri": "https://localhost:8080/",
          "height": 221
        },
        "outputId": "c4437d8b-579e-49bc-adc1-3a6f63de8a5e"
      },
      "source": [
        "from sklearn.model_selection import GridSearchCV\n",
        "outer_cv = KFold(n_splits=5, shuffle=True, random_state=1)\n",
        "inner_cv = KFold(n_splits=10, shuffle=True, random_state=1)\n",
        "\n",
        "outer_scores = []\n",
        "# outer folds\n",
        "for i, (train_idx, test_idx) in enumerate(outer_cv.split(X, y)):\n",
        "    print('[Outer fold %d/5]' % (i + 1))\n",
        "    X_train, X_test = X[train_idx], X[test_idx]\n",
        "    y_train, y_test = y[train_idx], y[test_idx]\n",
        "    \n",
        "    pipe = Pipeline([['sc', StandardScaler()], ['clf', KNeighborsClassifier()]])\n",
        "    # hyperparameter tuning by grid search CV\n",
        "    param_grid = {'clf__n_neighbors':[1, 15, 50]}\n",
        "    gs = GridSearchCV(estimator=pipe, param_grid=param_grid, \n",
        "                      scoring='accuracy', cv=inner_cv)\n",
        "    gs.fit(X_train, y_train)\n",
        "    best_clf = gs.best_estimator_\n",
        "    best_clf.fit(X_train, y_train)    \n",
        "    outer_scores.append(best_clf.score(X_test, y_test))\n",
        "    print('Test accuracy: %.2f (n_neighbors=%d selected by inner 10-fold CV)' % \n",
        "                  (outer_scores[i], gs.best_params_['clf__n_neighbors']))\n",
        "\n",
        "print('\\nTest accuracy: %.2f (5x10 nested CV)' % np.mean(outer_scores))"
      ],
      "execution_count": 8,
      "outputs": [
        {
          "output_type": "stream",
          "text": [
            "[Outer fold 1/5]\n",
            "Test accuracy: 0.90 (n_neighbors=1 selected by inner 10-fold CV)\n",
            "[Outer fold 2/5]\n",
            "Test accuracy: 0.90 (n_neighbors=15 selected by inner 10-fold CV)\n",
            "[Outer fold 3/5]\n",
            "Test accuracy: 0.90 (n_neighbors=15 selected by inner 10-fold CV)\n",
            "[Outer fold 4/5]\n",
            "Test accuracy: 0.93 (n_neighbors=15 selected by inner 10-fold CV)\n",
            "[Outer fold 5/5]\n",
            "Test accuracy: 1.00 (n_neighbors=15 selected by inner 10-fold CV)\n",
            "\n",
            "Test accuracy: 0.93 (5x10 nested CV)\n"
          ],
          "name": "stdout"
        }
      ]
    },
    {
      "cell_type": "code",
      "metadata": {
        "id": "gmyN8j9Wzgww",
        "colab_type": "code",
        "colab": {
          "base_uri": "https://localhost:8080/",
          "height": 236
        },
        "outputId": "02eaf98b-0135-4673-af7e-3b85b146c37d"
      },
      "source": [
        "#NOTE: if we have a dataset with imbalance classes, \n",
        "#we should use the stratified K-fold CV that prepserves the class proportions in each fold \n",
        "#to ensure that each fold is representative of the class proportions in the training dataset. \n",
        "#To use stratified CV, simply replace\n",
        "#>>> from sklearn.model_selection import KFold\n",
        "#>>> KFold(n_splits=...)\n",
        "#with\n",
        "#>>> from sklearn.model_selection import StratifiedKFold\n",
        "#>>> StratifiedKFold(y=..., n_splits=...)\n",
        "#How many folds K do we need? Here are some rules of thumb explained in the lecture:\n",
        "#1. For large K, the MSE of cross-validation error (to the true expected generalization error of fN) \n",
        "#tends to have a small bias but large variance since a classifier in each iteration is trained on more examples \n",
        "#but classifiers from different folds are trained on similar examples;\n",
        "#2. On the other hand, for small K, the cross-validation error tends to have large bias but small variance;\n",
        "#3. When dataset is small, the cross-validation error will have both large bias and large variance.\n",
        "#To see these in practice, let's consider the Polynomial regression where the ground truth data generating distribution is known:\n",
        "#P(y|x)=sin(x)+ϵ,ϵ∼N(0,σ2))\n",
        "from sklearn.model_selection import KFold\n",
        "from sklearn.preprocessing import PolynomialFeatures\n",
        "from sklearn.linear_model import LinearRegression\n",
        "from sklearn.metrics import mean_squared_error\n",
        "\n",
        "sigma = 1\n",
        "n_range = range(10, 50, 2)\n",
        "k_range = [5, 10]\n",
        "\n",
        "poly = PolynomialFeatures(degree=2)\n",
        "X = np.array([])\n",
        "y = np.array([])\n",
        "cv5_mean = []\n",
        "cv5_std = []\n",
        "cv10_mean = []\n",
        "cv10_std = []\n",
        "exp_mean = []\n",
        "for n in n_range:\n",
        "    # compute the bias and variance of cv5\n",
        "    mse_test = []\n",
        "    for i in range(500):\n",
        "        x, y = gen_data(n, sigma)\n",
        "        X = poly.fit_transform(x[:, np.newaxis])\n",
        "        \n",
        "        cv5 = KFold(n_splits=5, random_state=1)\n",
        "        for i, (train, test) in enumerate(cv5.split(X, y)):\n",
        "            lr = LinearRegression()\n",
        "            lr.fit(X[train], y[train])\n",
        "            y_test_pred = lr.predict(X[test])\n",
        "            mse_test.append(mean_squared_error(y[test], y_test_pred))\n",
        "    \n",
        "    cv5_mean.append(np.mean(mse_test))\n",
        "    cv5_std.append(np.std(mse_test))\n",
        "    \n",
        "    # compute the bias and variance of cv10\n",
        "    mse_test = []\n",
        "    for i in range(500):\n",
        "        x, y = gen_data(n, sigma)\n",
        "        X = poly.fit_transform(x[:, np.newaxis])\n",
        "        \n",
        "        cv10 = KFold(n_splits=10, random_state=1)\n",
        "        for i, (train, test) in enumerate(cv10.split(X, y)):\n",
        "            lr = LinearRegression()\n",
        "            lr.fit(X[train], y[train])\n",
        "            y_test_pred = lr.predict(X[test])\n",
        "            mse_test.append(mean_squared_error(y[test], y_test_pred))\n",
        "    \n",
        "    cv10_mean.append(np.mean(mse_test))\n",
        "    cv10_std.append(np.std(mse_test))\n",
        "    \n",
        "    # compute the expected generalization error of f_N\n",
        "    mse_test = []\n",
        "    for i in range(500):\n",
        "        x, y = gen_data(n, sigma)\n",
        "        X = poly.fit_transform(x[:, np.newaxis])\n",
        "        lr = LinearRegression()\n",
        "        lr.fit(X, y)\n",
        "        x_test, y_test = gen_data(100, sigma)\n",
        "        X_test = poly.transform(x_test[:, np.newaxis])\n",
        "        y_test_pred = lr.predict(X_test)\n",
        "        mse_test.append(mean_squared_error(y_test, y_test_pred))\n",
        "    exp_mean.append(np.mean(mse_test))"
      ],
      "execution_count": 9,
      "outputs": [
        {
          "output_type": "error",
          "ename": "NameError",
          "evalue": "ignored",
          "traceback": [
            "\u001b[0;31m---------------------------------------------------------------------------\u001b[0m",
            "\u001b[0;31mNameError\u001b[0m                                 Traceback (most recent call last)",
            "\u001b[0;32m<ipython-input-9-221a8f3a2c9c>\u001b[0m in \u001b[0;36m<module>\u001b[0;34m()\u001b[0m\n\u001b[1;32m     20\u001b[0m     \u001b[0mmse_test\u001b[0m \u001b[0;34m=\u001b[0m \u001b[0;34m[\u001b[0m\u001b[0;34m]\u001b[0m\u001b[0;34m\u001b[0m\u001b[0;34m\u001b[0m\u001b[0m\n\u001b[1;32m     21\u001b[0m     \u001b[0;32mfor\u001b[0m \u001b[0mi\u001b[0m \u001b[0;32min\u001b[0m \u001b[0mrange\u001b[0m\u001b[0;34m(\u001b[0m\u001b[0;36m500\u001b[0m\u001b[0;34m)\u001b[0m\u001b[0;34m:\u001b[0m\u001b[0;34m\u001b[0m\u001b[0;34m\u001b[0m\u001b[0m\n\u001b[0;32m---> 22\u001b[0;31m         \u001b[0mx\u001b[0m\u001b[0;34m,\u001b[0m \u001b[0my\u001b[0m \u001b[0;34m=\u001b[0m \u001b[0mgen_data\u001b[0m\u001b[0;34m(\u001b[0m\u001b[0mn\u001b[0m\u001b[0;34m,\u001b[0m \u001b[0msigma\u001b[0m\u001b[0;34m)\u001b[0m\u001b[0;34m\u001b[0m\u001b[0;34m\u001b[0m\u001b[0m\n\u001b[0m\u001b[1;32m     23\u001b[0m         \u001b[0mX\u001b[0m \u001b[0;34m=\u001b[0m \u001b[0mpoly\u001b[0m\u001b[0;34m.\u001b[0m\u001b[0mfit_transform\u001b[0m\u001b[0;34m(\u001b[0m\u001b[0mx\u001b[0m\u001b[0;34m[\u001b[0m\u001b[0;34m:\u001b[0m\u001b[0;34m,\u001b[0m \u001b[0mnp\u001b[0m\u001b[0;34m.\u001b[0m\u001b[0mnewaxis\u001b[0m\u001b[0;34m]\u001b[0m\u001b[0;34m)\u001b[0m\u001b[0;34m\u001b[0m\u001b[0;34m\u001b[0m\u001b[0m\n\u001b[1;32m     24\u001b[0m \u001b[0;34m\u001b[0m\u001b[0m\n",
            "\u001b[0;31mNameError\u001b[0m: name 'gen_data' is not defined"
          ]
        }
      ]
    },
    {
      "cell_type": "code",
      "metadata": {
        "id": "0s60Ult22ZCh",
        "colab_type": "code",
        "colab": {}
      },
      "source": [
        "plt.plot(n_range, cv5_mean, \n",
        "         markersize=5, label='5-Fold CV', color='blue')\n",
        "plt.fill_between(n_range,\n",
        "                 np.add(cv5_mean, cv5_std),\n",
        "                 np.subtract(cv5_mean, cv5_std),\n",
        "                 alpha=0.15, color='blue')\n",
        "\n",
        "plt.plot(n_range, cv10_mean, \n",
        "         markersize=5, label='10-Fold CV', color='green')\n",
        "plt.fill_between(n_range,\n",
        "                 np.add(cv10_mean, cv10_std),\n",
        "                 np.subtract(cv10_mean, cv10_std),\n",
        "                 alpha=0.15, color='green')\n",
        "\n",
        "plt.plot(n_range, exp_mean, \n",
        "         markersize=5, label='Exp', color='red')\n",
        "\n",
        "plt.hlines(y=sigma, xmin=10, xmax=48, \n",
        "           label='Bayes', color='red', \n",
        "           linewidth=2, linestyle='--')\n",
        "\n",
        "plt.legend(loc='upper right')\n",
        "plt.xlim([10, 48])\n",
        "plt.ylim([0, 5])\n",
        "plt.xlabel('N')\n",
        "plt.ylabel('MSE')\n",
        "plt.tight_layout()\n",
        "plt.savefig('fig-cv-fold.png', dpi=300)\n",
        "plt.show()"
      ],
      "execution_count": 0,
      "outputs": []
    },
    {
      "cell_type": "code",
      "metadata": {
        "id": "Yi8mdBVp03dJ",
        "colab_type": "code",
        "colab": {
          "base_uri": "https://localhost:8080/",
          "height": 697
        },
        "outputId": "bd28c42e-beac-41fa-e3ea-02a5ae184a9d"
      },
      "source": [
        "import pandas as pd\n",
        "import matplotlib.pyplot as plt\n",
        "from sklearn.neighbors import KNeighborsClassifier\n",
        "from sklearn.tree import DecisionTreeClassifier\n",
        "from sklearn.linear_model import LogisticRegression\n",
        "from sklearn.datasets import make_moons\n",
        "\n",
        "X, y = make_moons(n_samples=500, noise=0.3, random_state=0)\n",
        "X_train, X_test, y_train, y_test = train_test_split(X, y, test_size=0.2, random_state=3)\n",
        "\n",
        "plt.scatter(X[y == 0, 0], X[y == 0, 1], label='Class 0',\n",
        "            c='r', marker='s', alpha=0.5)\n",
        "plt.scatter(X[y == 1, 0], X[y == 1, 1], label='Class 1',\n",
        "            c='b', marker='x', alpha=0.5)\n",
        "plt.scatter(X_test[:, 0], X_test[:, 1],\n",
        "            c='', marker='o', label='Class 1')\n",
        "plt.show()\n",
        "\n",
        "pipe1 = Pipeline([['sc', StandardScaler()], ['clf', LogisticRegression(C=10, random_state=0)]])\n",
        "pipe2 = Pipeline([['clf', DecisionTreeClassifier(max_depth=3, random_state=0)]])\n",
        "pipe3 = Pipeline([['sc', StandardScaler()], ['clf', KNeighborsClassifier(n_neighbors=5)]])\n",
        "from sklearn.model_selection import cross_val_score\n",
        "\n",
        "clf_labels = ['LogisticRegression', 'DecisionTree', 'KNN']\n",
        "print('[Individual]')\n",
        "for pipe, label in zip([pipe1, pipe2, pipe3], clf_labels):\n",
        "    scores = cross_val_score(estimator=pipe, X=X_train, y=y_train, cv=10, scoring='roc_auc')\n",
        "    print('%s: %.3f (+/- %.3f)' % (label, scores.mean(), scores.std()))"
      ],
      "execution_count": 13,
      "outputs": [
        {
          "output_type": "display_data",
          "data": {
            "image/png": "[encoded data removed]",
            "text/plain": [
              "<Figure size 432x288 with 1 Axes>"
            ]
          },
          "metadata": {
            "tags": []
          }
        },
        {
          "output_type": "stream",
          "text": [
            "[Individual]\n",
            "LogisticRegression: 0.929 (+/- 0.029)\n",
            "DecisionTree: 0.941 (+/- 0.023)\n",
            "KNN: 0.948 (+/- 0.026)\n"
          ],
          "name": "stdout"
        },
        {
          "output_type": "stream",
          "text": [
            "/usr/local/lib/python3.6/dist-packages/sklearn/linear_model/logistic.py:432: FutureWarning: Default solver will be changed to 'lbfgs' in 0.22. Specify a solver to silence this warning.\n",
            "  FutureWarning)\n",
            "/usr/local/lib/python3.6/dist-packages/sklearn/linear_model/logistic.py:432: FutureWarning: Default solver will be changed to 'lbfgs' in 0.22. Specify a solver to silence this warning.\n",
            "  FutureWarning)\n",
            "/usr/local/lib/python3.6/dist-packages/sklearn/linear_model/logistic.py:432: FutureWarning: Default solver will be changed to 'lbfgs' in 0.22. Specify a solver to silence this warning.\n",
            "  FutureWarning)\n",
            "/usr/local/lib/python3.6/dist-packages/sklearn/linear_model/logistic.py:432: FutureWarning: Default solver will be changed to 'lbfgs' in 0.22. Specify a solver to silence this warning.\n",
            "  FutureWarning)\n",
            "/usr/local/lib/python3.6/dist-packages/sklearn/linear_model/logistic.py:432: FutureWarning: Default solver will be changed to 'lbfgs' in 0.22. Specify a solver to silence this warning.\n",
            "  FutureWarning)\n",
            "/usr/local/lib/python3.6/dist-packages/sklearn/linear_model/logistic.py:432: FutureWarning: Default solver will be changed to 'lbfgs' in 0.22. Specify a solver to silence this warning.\n",
            "  FutureWarning)\n",
            "/usr/local/lib/python3.6/dist-packages/sklearn/linear_model/logistic.py:432: FutureWarning: Default solver will be changed to 'lbfgs' in 0.22. Specify a solver to silence this warning.\n",
            "  FutureWarning)\n",
            "/usr/local/lib/python3.6/dist-packages/sklearn/linear_model/logistic.py:432: FutureWarning: Default solver will be changed to 'lbfgs' in 0.22. Specify a solver to silence this warning.\n",
            "  FutureWarning)\n",
            "/usr/local/lib/python3.6/dist-packages/sklearn/linear_model/logistic.py:432: FutureWarning: Default solver will be changed to 'lbfgs' in 0.22. Specify a solver to silence this warning.\n",
            "  FutureWarning)\n",
            "/usr/local/lib/python3.6/dist-packages/sklearn/linear_model/logistic.py:432: FutureWarning: Default solver will be changed to 'lbfgs' in 0.22. Specify a solver to silence this warning.\n",
            "  FutureWarning)\n"
          ],
          "name": "stderr"
        }
      ]
    },
    {
      "cell_type": "code",
      "metadata": {
        "id": "EKKy4iH_2wRr",
        "colab_type": "code",
        "colab": {
          "base_uri": "https://localhost:8080/",
          "height": 1000
        },
        "outputId": "3e11cca4-21d9-4fb6-801c-b67ec5735fa7"
      },
      "source": [
        "from sklearn.ensemble import VotingClassifier\n",
        "import itertools\n",
        "\n",
        "print('[Voting]')\n",
        "best_vt, best_w, best_score = None, (), -1\n",
        "for a, b, c in list(itertools.permutations(range(0,3))): # try some weight combination\n",
        "    clf = VotingClassifier(estimators=[('lr', pipe1), ('dt', pipe2), ('knn', pipe3)], \n",
        "                           voting='soft', weights=[a,b,c])\n",
        "    scores = cross_val_score(estimator=clf, X=X_train, y=y_train, cv=10, scoring='roc_auc')\n",
        "    print('%s: %.3f (+/- %.3f)' % ((a,b,c), scores.mean(), scores.std()))\n",
        "    if best_score < scores.mean():\n",
        "        best_vt, best_w, best_score = clf, (a, b, c), scores.mean()\n",
        "\n",
        "print('\\nBest %s: %.3f' % (best_w, best_score))"
      ],
      "execution_count": 14,
      "outputs": [
        {
          "output_type": "stream",
          "text": [
            "[Voting]\n",
            "(0, 1, 2): 0.959 (+/- 0.021)\n",
            "(0, 2, 1): 0.960 (+/- 0.019)\n"
          ],
          "name": "stdout"
        },
        {
          "output_type": "stream",
          "text": [
            "/usr/local/lib/python3.6/dist-packages/sklearn/linear_model/logistic.py:432: FutureWarning: Default solver will be changed to 'lbfgs' in 0.22. Specify a solver to silence this warning.\n",
            "  FutureWarning)\n",
            "/usr/local/lib/python3.6/dist-packages/sklearn/linear_model/logistic.py:432: FutureWarning: Default solver will be changed to 'lbfgs' in 0.22. Specify a solver to silence this warning.\n",
            "  FutureWarning)\n",
            "/usr/local/lib/python3.6/dist-packages/sklearn/linear_model/logistic.py:432: FutureWarning: Default solver will be changed to 'lbfgs' in 0.22. Specify a solver to silence this warning.\n",
            "  FutureWarning)\n",
            "/usr/local/lib/python3.6/dist-packages/sklearn/linear_model/logistic.py:432: FutureWarning: Default solver will be changed to 'lbfgs' in 0.22. Specify a solver to silence this warning.\n",
            "  FutureWarning)\n",
            "/usr/local/lib/python3.6/dist-packages/sklearn/linear_model/logistic.py:432: FutureWarning: Default solver will be changed to 'lbfgs' in 0.22. Specify a solver to silence this warning.\n",
            "  FutureWarning)\n",
            "/usr/local/lib/python3.6/dist-packages/sklearn/linear_model/logistic.py:432: FutureWarning: Default solver will be changed to 'lbfgs' in 0.22. Specify a solver to silence this warning.\n",
            "  FutureWarning)\n",
            "/usr/local/lib/python3.6/dist-packages/sklearn/linear_model/logistic.py:432: FutureWarning: Default solver will be changed to 'lbfgs' in 0.22. Specify a solver to silence this warning.\n",
            "  FutureWarning)\n",
            "/usr/local/lib/python3.6/dist-packages/sklearn/linear_model/logistic.py:432: FutureWarning: Default solver will be changed to 'lbfgs' in 0.22. Specify a solver to silence this warning.\n",
            "  FutureWarning)\n",
            "/usr/local/lib/python3.6/dist-packages/sklearn/linear_model/logistic.py:432: FutureWarning: Default solver will be changed to 'lbfgs' in 0.22. Specify a solver to silence this warning.\n",
            "  FutureWarning)\n",
            "/usr/local/lib/python3.6/dist-packages/sklearn/linear_model/logistic.py:432: FutureWarning: Default solver will be changed to 'lbfgs' in 0.22. Specify a solver to silence this warning.\n",
            "  FutureWarning)\n",
            "/usr/local/lib/python3.6/dist-packages/sklearn/linear_model/logistic.py:432: FutureWarning: Default solver will be changed to 'lbfgs' in 0.22. Specify a solver to silence this warning.\n",
            "  FutureWarning)\n",
            "/usr/local/lib/python3.6/dist-packages/sklearn/linear_model/logistic.py:432: FutureWarning: Default solver will be changed to 'lbfgs' in 0.22. Specify a solver to silence this warning.\n",
            "  FutureWarning)\n",
            "/usr/local/lib/python3.6/dist-packages/sklearn/linear_model/logistic.py:432: FutureWarning: Default solver will be changed to 'lbfgs' in 0.22. Specify a solver to silence this warning.\n",
            "  FutureWarning)\n",
            "/usr/local/lib/python3.6/dist-packages/sklearn/linear_model/logistic.py:432: FutureWarning: Default solver will be changed to 'lbfgs' in 0.22. Specify a solver to silence this warning.\n",
            "  FutureWarning)\n",
            "/usr/local/lib/python3.6/dist-packages/sklearn/linear_model/logistic.py:432: FutureWarning: Default solver will be changed to 'lbfgs' in 0.22. Specify a solver to silence this warning.\n",
            "  FutureWarning)\n",
            "/usr/local/lib/python3.6/dist-packages/sklearn/linear_model/logistic.py:432: FutureWarning: Default solver will be changed to 'lbfgs' in 0.22. Specify a solver to silence this warning.\n",
            "  FutureWarning)\n",
            "/usr/local/lib/python3.6/dist-packages/sklearn/linear_model/logistic.py:432: FutureWarning: Default solver will be changed to 'lbfgs' in 0.22. Specify a solver to silence this warning.\n",
            "  FutureWarning)\n",
            "/usr/local/lib/python3.6/dist-packages/sklearn/linear_model/logistic.py:432: FutureWarning: Default solver will be changed to 'lbfgs' in 0.22. Specify a solver to silence this warning.\n",
            "  FutureWarning)\n",
            "/usr/local/lib/python3.6/dist-packages/sklearn/linear_model/logistic.py:432: FutureWarning: Default solver will be changed to 'lbfgs' in 0.22. Specify a solver to silence this warning.\n",
            "  FutureWarning)\n",
            "/usr/local/lib/python3.6/dist-packages/sklearn/linear_model/logistic.py:432: FutureWarning: Default solver will be changed to 'lbfgs' in 0.22. Specify a solver to silence this warning.\n",
            "  FutureWarning)\n",
            "/usr/local/lib/python3.6/dist-packages/sklearn/linear_model/logistic.py:432: FutureWarning: Default solver will be changed to 'lbfgs' in 0.22. Specify a solver to silence this warning.\n",
            "  FutureWarning)\n",
            "/usr/local/lib/python3.6/dist-packages/sklearn/linear_model/logistic.py:432: FutureWarning: Default solver will be changed to 'lbfgs' in 0.22. Specify a solver to silence this warning.\n",
            "  FutureWarning)\n",
            "/usr/local/lib/python3.6/dist-packages/sklearn/linear_model/logistic.py:432: FutureWarning: Default solver will be changed to 'lbfgs' in 0.22. Specify a solver to silence this warning.\n",
            "  FutureWarning)\n",
            "/usr/local/lib/python3.6/dist-packages/sklearn/linear_model/logistic.py:432: FutureWarning: Default solver will be changed to 'lbfgs' in 0.22. Specify a solver to silence this warning.\n",
            "  FutureWarning)\n",
            "/usr/local/lib/python3.6/dist-packages/sklearn/linear_model/logistic.py:432: FutureWarning: Default solver will be changed to 'lbfgs' in 0.22. Specify a solver to silence this warning.\n",
            "  FutureWarning)\n",
            "/usr/local/lib/python3.6/dist-packages/sklearn/linear_model/logistic.py:432: FutureWarning: Default solver will be changed to 'lbfgs' in 0.22. Specify a solver to silence this warning.\n",
            "  FutureWarning)\n",
            "/usr/local/lib/python3.6/dist-packages/sklearn/linear_model/logistic.py:432: FutureWarning: Default solver will be changed to 'lbfgs' in 0.22. Specify a solver to silence this warning.\n",
            "  FutureWarning)\n",
            "/usr/local/lib/python3.6/dist-packages/sklearn/linear_model/logistic.py:432: FutureWarning: Default solver will be changed to 'lbfgs' in 0.22. Specify a solver to silence this warning.\n",
            "  FutureWarning)\n",
            "/usr/local/lib/python3.6/dist-packages/sklearn/linear_model/logistic.py:432: FutureWarning: Default solver will be changed to 'lbfgs' in 0.22. Specify a solver to silence this warning.\n",
            "  FutureWarning)\n",
            "/usr/local/lib/python3.6/dist-packages/sklearn/linear_model/logistic.py:432: FutureWarning: Default solver will be changed to 'lbfgs' in 0.22. Specify a solver to silence this warning.\n",
            "  FutureWarning)\n",
            "/usr/local/lib/python3.6/dist-packages/sklearn/linear_model/logistic.py:432: FutureWarning: Default solver will be changed to 'lbfgs' in 0.22. Specify a solver to silence this warning.\n",
            "  FutureWarning)\n",
            "/usr/local/lib/python3.6/dist-packages/sklearn/linear_model/logistic.py:432: FutureWarning: Default solver will be changed to 'lbfgs' in 0.22. Specify a solver to silence this warning.\n",
            "  FutureWarning)\n",
            "/usr/local/lib/python3.6/dist-packages/sklearn/linear_model/logistic.py:432: FutureWarning: Default solver will be changed to 'lbfgs' in 0.22. Specify a solver to silence this warning.\n",
            "  FutureWarning)\n",
            "/usr/local/lib/python3.6/dist-packages/sklearn/linear_model/logistic.py:432: FutureWarning: Default solver will be changed to 'lbfgs' in 0.22. Specify a solver to silence this warning.\n",
            "  FutureWarning)\n",
            "/usr/local/lib/python3.6/dist-packages/sklearn/linear_model/logistic.py:432: FutureWarning: Default solver will be changed to 'lbfgs' in 0.22. Specify a solver to silence this warning.\n",
            "  FutureWarning)\n",
            "/usr/local/lib/python3.6/dist-packages/sklearn/linear_model/logistic.py:432: FutureWarning: Default solver will be changed to 'lbfgs' in 0.22. Specify a solver to silence this warning.\n",
            "  FutureWarning)\n",
            "/usr/local/lib/python3.6/dist-packages/sklearn/linear_model/logistic.py:432: FutureWarning: Default solver will be changed to 'lbfgs' in 0.22. Specify a solver to silence this warning.\n",
            "  FutureWarning)\n",
            "/usr/local/lib/python3.6/dist-packages/sklearn/linear_model/logistic.py:432: FutureWarning: Default solver will be changed to 'lbfgs' in 0.22. Specify a solver to silence this warning.\n",
            "  FutureWarning)\n",
            "/usr/local/lib/python3.6/dist-packages/sklearn/linear_model/logistic.py:432: FutureWarning: Default solver will be changed to 'lbfgs' in 0.22. Specify a solver to silence this warning.\n",
            "  FutureWarning)\n",
            "/usr/local/lib/python3.6/dist-packages/sklearn/linear_model/logistic.py:432: FutureWarning: Default solver will be changed to 'lbfgs' in 0.22. Specify a solver to silence this warning.\n",
            "  FutureWarning)\n",
            "/usr/local/lib/python3.6/dist-packages/sklearn/linear_model/logistic.py:432: FutureWarning: Default solver will be changed to 'lbfgs' in 0.22. Specify a solver to silence this warning.\n",
            "  FutureWarning)\n",
            "/usr/local/lib/python3.6/dist-packages/sklearn/linear_model/logistic.py:432: FutureWarning: Default solver will be changed to 'lbfgs' in 0.22. Specify a solver to silence this warning.\n",
            "  FutureWarning)\n",
            "/usr/local/lib/python3.6/dist-packages/sklearn/linear_model/logistic.py:432: FutureWarning: Default solver will be changed to 'lbfgs' in 0.22. Specify a solver to silence this warning.\n",
            "  FutureWarning)\n",
            "/usr/local/lib/python3.6/dist-packages/sklearn/linear_model/logistic.py:432: FutureWarning: Default solver will be changed to 'lbfgs' in 0.22. Specify a solver to silence this warning.\n",
            "  FutureWarning)\n",
            "/usr/local/lib/python3.6/dist-packages/sklearn/linear_model/logistic.py:432: FutureWarning: Default solver will be changed to 'lbfgs' in 0.22. Specify a solver to silence this warning.\n",
            "  FutureWarning)\n",
            "/usr/local/lib/python3.6/dist-packages/sklearn/linear_model/logistic.py:432: FutureWarning: Default solver will be changed to 'lbfgs' in 0.22. Specify a solver to silence this warning.\n",
            "  FutureWarning)\n",
            "/usr/local/lib/python3.6/dist-packages/sklearn/linear_model/logistic.py:432: FutureWarning: Default solver will be changed to 'lbfgs' in 0.22. Specify a solver to silence this warning.\n",
            "  FutureWarning)\n"
          ],
          "name": "stderr"
        },
        {
          "output_type": "stream",
          "text": [
            "(1, 0, 2): 0.958 (+/- 0.023)\n",
            "(1, 2, 0): 0.944 (+/- 0.025)\n",
            "(2, 0, 1): 0.948 (+/- 0.023)\n",
            "(2, 1, 0): 0.939 (+/- 0.025)\n",
            "\n",
            "Best (0, 2, 1): 0.960\n"
          ],
          "name": "stdout"
        },
        {
          "output_type": "stream",
          "text": [
            "/usr/local/lib/python3.6/dist-packages/sklearn/linear_model/logistic.py:432: FutureWarning: Default solver will be changed to 'lbfgs' in 0.22. Specify a solver to silence this warning.\n",
            "  FutureWarning)\n",
            "/usr/local/lib/python3.6/dist-packages/sklearn/linear_model/logistic.py:432: FutureWarning: Default solver will be changed to 'lbfgs' in 0.22. Specify a solver to silence this warning.\n",
            "  FutureWarning)\n",
            "/usr/local/lib/python3.6/dist-packages/sklearn/linear_model/logistic.py:432: FutureWarning: Default solver will be changed to 'lbfgs' in 0.22. Specify a solver to silence this warning.\n",
            "  FutureWarning)\n",
            "/usr/local/lib/python3.6/dist-packages/sklearn/linear_model/logistic.py:432: FutureWarning: Default solver will be changed to 'lbfgs' in 0.22. Specify a solver to silence this warning.\n",
            "  FutureWarning)\n",
            "/usr/local/lib/python3.6/dist-packages/sklearn/linear_model/logistic.py:432: FutureWarning: Default solver will be changed to 'lbfgs' in 0.22. Specify a solver to silence this warning.\n",
            "  FutureWarning)\n",
            "/usr/local/lib/python3.6/dist-packages/sklearn/linear_model/logistic.py:432: FutureWarning: Default solver will be changed to 'lbfgs' in 0.22. Specify a solver to silence this warning.\n",
            "  FutureWarning)\n",
            "/usr/local/lib/python3.6/dist-packages/sklearn/linear_model/logistic.py:432: FutureWarning: Default solver will be changed to 'lbfgs' in 0.22. Specify a solver to silence this warning.\n",
            "  FutureWarning)\n",
            "/usr/local/lib/python3.6/dist-packages/sklearn/linear_model/logistic.py:432: FutureWarning: Default solver will be changed to 'lbfgs' in 0.22. Specify a solver to silence this warning.\n",
            "  FutureWarning)\n",
            "/usr/local/lib/python3.6/dist-packages/sklearn/linear_model/logistic.py:432: FutureWarning: Default solver will be changed to 'lbfgs' in 0.22. Specify a solver to silence this warning.\n",
            "  FutureWarning)\n",
            "/usr/local/lib/python3.6/dist-packages/sklearn/linear_model/logistic.py:432: FutureWarning: Default solver will be changed to 'lbfgs' in 0.22. Specify a solver to silence this warning.\n",
            "  FutureWarning)\n",
            "/usr/local/lib/python3.6/dist-packages/sklearn/linear_model/logistic.py:432: FutureWarning: Default solver will be changed to 'lbfgs' in 0.22. Specify a solver to silence this warning.\n",
            "  FutureWarning)\n",
            "/usr/local/lib/python3.6/dist-packages/sklearn/linear_model/logistic.py:432: FutureWarning: Default solver will be changed to 'lbfgs' in 0.22. Specify a solver to silence this warning.\n",
            "  FutureWarning)\n",
            "/usr/local/lib/python3.6/dist-packages/sklearn/linear_model/logistic.py:432: FutureWarning: Default solver will be changed to 'lbfgs' in 0.22. Specify a solver to silence this warning.\n",
            "  FutureWarning)\n"
          ],
          "name": "stderr"
        }
      ]
    },
    {
      "cell_type": "code",
      "metadata": {
        "id": "OS8kP1q53U8o",
        "colab_type": "code",
        "colab": {
          "base_uri": "https://localhost:8080/",
          "height": 385
        },
        "outputId": "4ae58b72-f4f7-4327-e2c5-54f361149b20"
      },
      "source": [
        "import matplotlib.pyplot as plt\n",
        "from sklearn.metrics import roc_curve\n",
        "from sklearn.metrics import auc\n",
        "\n",
        "clf_labels =['LogisticRegression', 'DecisionTree', 'KNN', 'Voting']\n",
        "colors = ['black', 'orange', 'blue', 'green']\n",
        "linestyles = ['-', '-', '-', '--']\n",
        "for clf, label, clr, ls in zip([pipe1, pipe2, pipe3, best_vt], clf_labels, colors, linestyles):\n",
        "    # assume positive class is at dimension 2\n",
        "    clf.fit(X_train, y_train)\n",
        "    y_pred = clf.predict_proba(X_test)[:, 1]\n",
        "    \n",
        "    fpr, tpr, thresholds = roc_curve(y_true=y_test, y_score=y_pred)\n",
        "    roc_auc = auc(x=fpr, y=tpr)\n",
        "    \n",
        "    plt.plot(fpr, tpr, color=clr, linestyle=ls, label='%s (auc=%0.2f)' % (label, roc_auc))\n",
        "    plt.legend(loc='lower right')\n",
        "    plt.plot([0, 1], [0, 1], linestyle='--', color='gray')\n",
        "    plt.xlim([-0.02, 1])\n",
        "    plt.ylim([-0.1, 1.1])\n",
        "    plt.grid()\n",
        "    plt.xlabel('FPR')\n",
        "    plt.ylabel('TPR')\n",
        "\n",
        "plt.grid()\n",
        "plt.tight_layout()\n",
        "plt.savefig('fig-vote-roc.png', dpi=300)\n",
        "plt.show()"
      ],
      "execution_count": 15,
      "outputs": [
        {
          "output_type": "stream",
          "text": [
            "/usr/local/lib/python3.6/dist-packages/sklearn/linear_model/logistic.py:432: FutureWarning: Default solver will be changed to 'lbfgs' in 0.22. Specify a solver to silence this warning.\n",
            "  FutureWarning)\n",
            "/usr/local/lib/python3.6/dist-packages/sklearn/linear_model/logistic.py:432: FutureWarning: Default solver will be changed to 'lbfgs' in 0.22. Specify a solver to silence this warning.\n",
            "  FutureWarning)\n"
          ],
          "name": "stderr"
        },
        {
          "output_type": "display_data",
          "data": {
            "image/png": "[encoded data removed]",
            "text/plain": [
              "<Figure size 432x288 with 1 Axes>"
            ]
          },
          "metadata": {
            "tags": []
          }
        }
      ]
    },
    {
      "cell_type": "code",
      "metadata": {
        "id": "m4KNddCu3YJE",
        "colab_type": "code",
        "colab": {
          "base_uri": "https://localhost:8080/",
          "height": 236
        },
        "outputId": "fd96d615-5ab6-4a8c-981f-51932b050f5d"
      },
      "source": [
        "X_combined = np.vstack((X_train, X_test))\n",
        "y_combined = np.hstack((y_train, y_test))\n",
        "\n",
        "plot_decision_regions(X=X_combined, y=y_combined, \n",
        "                      classifier=pipe1,\n",
        "                      test_idx=range(len(y_train), \n",
        "                                     len(y_train) + len(y_test)))\n",
        "plt.title('Logistic regression')\n",
        "plt.tight_layout()\n",
        "plt.savefig('fig-vote-logistic-regressio-boundary.png', dpi=300)\n",
        "plt.show()\n",
        "\n",
        "plot_decision_regions(X=X_combined, y=y_combined, \n",
        "                      classifier=pipe2,\n",
        "                      test_idx=range(len(y_train), \n",
        "                                     len(y_train) + len(y_test)))\n",
        "plt.title('Decision tree')\n",
        "plt.tight_layout()\n",
        "plt.savefig('fig-vote-decision-tree-boundary.png', dpi=300)\n",
        "plt.show()\n",
        "\n",
        "plot_decision_regions(X=X_combined, y=y_combined, \n",
        "                      classifier=pipe3,\n",
        "                      test_idx=range(len(y_train), \n",
        "                                     len(y_train) + len(y_test)))\n",
        "plt.title('KNN')\n",
        "plt.tight_layout()\n",
        "plt.savefig('fig-voting-knn-boundary.png', dpi=300)\n",
        "plt.show()\n",
        "\n",
        "plot_decision_regions(X=X_combined, y=y_combined, \n",
        "                      classifier=best_vt,\n",
        "                      test_idx=range(len(y_train), \n",
        "                                     len(y_train) + len(y_test)))\n",
        "plt.title('Voting')\n",
        "plt.tight_layout()\n",
        "plt.savefig('fig-voting-boundary.png', dpi=300)\n",
        "plt.show()\n",
        "plot_decision_regions(X=X_combined, y=y_combined, \n",
        "                      classifier=pipe2, soft=True,\n",
        "                      test_idx=range(len(y_train), \n",
        "                                     len(y_train) + len(y_test)))\n",
        "plt.title('Decision tree')\n",
        "plt.tight_layout()\n",
        "plt.savefig('./output/fig-vote-decision-tree-boundary-soft.png', dpi=300)\n",
        "plt.show()\n",
        "\n",
        "plot_decision_regions(X=X_combined, y=y_combined, \n",
        "                      classifier=best_vt, soft=True,\n",
        "                      test_idx=range(len(y_train), \n",
        "                                     len(y_train) + len(y_test)))\n",
        "plt.title('Voting')\n",
        "plt.tight_layout()\n",
        "plt.savefig('./output/fig-voting-boundary-soft.png', dpi=300)\n",
        "plt.show()"
      ],
      "execution_count": 16,
      "outputs": [
        {
          "output_type": "error",
          "ename": "NameError",
          "evalue": "ignored",
          "traceback": [
            "\u001b[0;31m---------------------------------------------------------------------------\u001b[0m",
            "\u001b[0;31mNameError\u001b[0m                                 Traceback (most recent call last)",
            "\u001b[0;32m<ipython-input-16-52fedabacace>\u001b[0m in \u001b[0;36m<module>\u001b[0;34m()\u001b[0m\n\u001b[1;32m      2\u001b[0m \u001b[0my_combined\u001b[0m \u001b[0;34m=\u001b[0m \u001b[0mnp\u001b[0m\u001b[0;34m.\u001b[0m\u001b[0mhstack\u001b[0m\u001b[0;34m(\u001b[0m\u001b[0;34m(\u001b[0m\u001b[0my_train\u001b[0m\u001b[0;34m,\u001b[0m \u001b[0my_test\u001b[0m\u001b[0;34m)\u001b[0m\u001b[0;34m)\u001b[0m\u001b[0;34m\u001b[0m\u001b[0;34m\u001b[0m\u001b[0m\n\u001b[1;32m      3\u001b[0m \u001b[0;34m\u001b[0m\u001b[0m\n\u001b[0;32m----> 4\u001b[0;31m plot_decision_regions(X=X_combined, y=y_combined, \n\u001b[0m\u001b[1;32m      5\u001b[0m                       \u001b[0mclassifier\u001b[0m\u001b[0;34m=\u001b[0m\u001b[0mpipe1\u001b[0m\u001b[0;34m,\u001b[0m\u001b[0;34m\u001b[0m\u001b[0;34m\u001b[0m\u001b[0m\n\u001b[1;32m      6\u001b[0m                       test_idx=range(len(y_train), \n",
            "\u001b[0;31mNameError\u001b[0m: name 'plot_decision_regions' is not defined"
          ]
        }
      ]
    },
    {
      "cell_type": "code",
      "metadata": {
        "id": "O9zCNxig3o8J",
        "colab_type": "code",
        "colab": {
          "base_uri": "https://localhost:8080/",
          "height": 51
        },
        "outputId": "3a413799-556b-4bdc-b291-66b9d3800dec"
      },
      "source": [
        "#Bagging\n",
        "from sklearn.ensemble import BaggingClassifier\n",
        "\n",
        "tree = DecisionTreeClassifier(criterion='entropy', max_depth=None, random_state=0)\n",
        "bag = BaggingClassifier(base_estimator=tree, n_estimators=500, \n",
        "                        max_samples=0.7, bootstrap=True,\n",
        "                        max_features=1.0, bootstrap_features=False, \n",
        "                        n_jobs=1, random_state=1)\n",
        "from sklearn.metrics import accuracy_score\n",
        "\n",
        "# single DecisionTree\n",
        "tree = tree.fit(X_train, y_train)\n",
        "y_train_pred = tree.predict(X_train)\n",
        "y_test_pred = tree.predict(X_test)\n",
        "\n",
        "tree_train = accuracy_score(y_train, y_train_pred)\n",
        "tree_test = accuracy_score(y_test, y_test_pred)\n",
        "print('[DecisionTree] accuracy-train = %.3f, accuracy-test = %.3f' % (tree_train, tree_test))\n",
        "# Bagging\n",
        "bag = bag.fit(X_train, y_train)\n",
        "y_train_pred = bag.predict(X_train)\n",
        "y_test_pred = bag.predict(X_test)\n",
        "\n",
        "bag_train = accuracy_score(y_train, y_train_pred) \n",
        "bag_test = accuracy_score(y_test, y_test_pred) \n",
        "print('[Bagging] auc-train = %.3f, auc-test = %.3f' % (bag_train, bag_test))\n"
      ],
      "execution_count": 18,
      "outputs": [
        {
          "output_type": "stream",
          "text": [
            "[DecisionTree] accuracy-train = 1.000, accuracy-test = 0.840\n",
            "[Bagging] auc-train = 0.993, auc-test = 0.860\n"
          ],
          "name": "stdout"
        }
      ]
    },
    {
      "cell_type": "code",
      "metadata": {
        "id": "7ZLK2tVO4JPh",
        "colab_type": "code",
        "colab": {}
      },
      "source": [
        "import numpy as np\n",
        "import matplotlib.pyplot as plt\n",
        "\n",
        "X_combined = np.vstack((X_train, X_test))\n",
        "y_combined = np.hstack((y_train, y_test))\n",
        "\n",
        "plot_decision_regions(X=X_combined, y=y_combined, \n",
        "                      classifier=tree,\n",
        "                      test_idx=range(len(y_train), \n",
        "                                     len(y_train) + len(y_test)))\n",
        "plt.title('Decision tree')\n",
        "plt.tight_layout()\n",
        "plt.savefig('fig-bagging-decision-tree-boundary.png', dpi=300)\n",
        "plt.show()\n",
        "\n",
        "\n",
        "plot_decision_regions(X=X_combined, y=y_combined, \n",
        "                      classifier=bag, \n",
        "                      test_idx=range(len(y_train), \n",
        "                                     len(y_train) + len(y_test)))\n",
        "plt.title('Bagging')\n",
        "plt.tight_layout()\n",
        "plt.savefig('fig-bagging-boundary.png', dpi=300)\n",
        "plt.show()\n",
        "\n",
        "plot_decision_regions(X=X_combined, y=y_combined, \n",
        "                      classifier=bag, soft=True,\n",
        "                      test_idx=range(len(y_train), \n",
        "                                     len(y_train) + len(y_test)))\n",
        "plt.title('Bagging (soft)')\n",
        "plt.tight_layout()\n",
        "plt.savefig('fig-bagging-boundary-soft.png', dpi=300)\n",
        "plt.show()"
      ],
      "execution_count": 0,
      "outputs": []
    },
    {
      "cell_type": "code",
      "metadata": {
        "id": "e4SQxBZT4aUd",
        "colab_type": "code",
        "colab": {
          "base_uri": "https://localhost:8080/",
          "height": 51
        },
        "outputId": "26752d10-a50c-4e4f-b57a-f642b96b5cd6"
      },
      "source": [
        "#Boosting\n",
        "from sklearn.ensemble import AdaBoostClassifier\n",
        "from sklearn import datasets\n",
        "\n",
        "tree = DecisionTreeClassifier(criterion='entropy', max_depth=1)\n",
        "# single decision tree\n",
        "tree = tree.fit(X_train, y_train)\n",
        "y_train_pred = tree.predict(X_train)\n",
        "y_test_pred = tree.predict(X_test)\n",
        "\n",
        "tree_train = accuracy_score(y_train, y_train_pred)\n",
        "tree_test = accuracy_score(y_test, y_test_pred)\n",
        "print('[DecisionTree] accuracy-train = %.3f, accuracy-test = %.3f' % \n",
        "      (tree_train, tree_test))\n",
        "\n",
        "# adaboost\n",
        "ada = AdaBoostClassifier(base_estimator=tree, n_estimators=500)\n",
        "ada = ada.fit(X_train, y_train)\n",
        "y_train_pred = ada.predict(X_train)\n",
        "y_test_pred = ada.predict(X_test)\n",
        "\n",
        "ada_train = accuracy_score(y_train, y_train_pred)\n",
        "ada_test = accuracy_score(y_test, y_test_pred)\n",
        "print('[AdaBoost] accuracy-train = %.3f, accuracy-test = %.3f' % \n",
        "      (ada_train, ada_test))"
      ],
      "execution_count": 19,
      "outputs": [
        {
          "output_type": "stream",
          "text": [
            "[DecisionTree] accuracy-train = 0.838, accuracy-test = 0.710\n",
            "[AdaBoost] accuracy-train = 1.000, accuracy-test = 0.870\n"
          ],
          "name": "stdout"
        }
      ]
    },
    {
      "cell_type": "code",
      "metadata": {
        "id": "iyTIg3cA4iLy",
        "colab_type": "code",
        "colab": {}
      },
      "source": [
        "plot_decision_regions(X=X_combined, y=y_combined, \n",
        "                      classifier=tree,\n",
        "                      test_idx=range(len(y_train), \n",
        "                                     len(y_train) + len(y_test)))\n",
        "plt.title('Decision tree')\n",
        "plt.tight_layout()\n",
        "plt.show()\n",
        "\n",
        "plot_decision_regions(X=X_combined, y=y_combined, \n",
        "                      classifier=ada,\n",
        "                      test_idx=range(len(y_train), \n",
        "                                     len(y_train) + len(y_test)))\n",
        "plt.title('AdaBoost')\n",
        "plt.tight_layout()\n",
        "plt.savefig('fig-adaboost-boundary.png', dpi=300)\n",
        "plt.show()\n",
        "\n",
        "plot_decision_regions(X=X_combined, y=y_combined, \n",
        "                      classifier=ada, soft=True,\n",
        "                      test_idx=range(len(y_train), \n",
        "                                     len(y_train) + len(y_test)))\n",
        "plt.title('AdaBoost (soft)')\n",
        "plt.tight_layout()\n",
        "plt.savefig('fig-adaboost-boundary-soft.png', dpi=300)\n",
        "plt.show()"
      ],
      "execution_count": 0,
      "outputs": []
    },
    {
      "cell_type": "code",
      "metadata": {
        "id": "eOGwmx_T4mm8",
        "colab_type": "code",
        "colab": {}
      },
      "source": [
        "range_est = range(1, 500)\n",
        "ada_train, ada_test = [], []\n",
        "for i in range_est:\n",
        "    ada = AdaBoostClassifier(base_estimator=tree, n_estimators=i, \n",
        "                             learning_rate=1, random_state=1)\n",
        "    ada = ada.fit(X_train, y_train)\n",
        "    y_train_pred = ada.predict(X_train)\n",
        "    y_test_pred = ada.predict(X_test)\n",
        "\n",
        "    ada_train.append(accuracy_score(y_train, y_train_pred))\n",
        "    ada_test.append(accuracy_score(y_test, y_test_pred))\n",
        "        \n",
        "plt.plot(range_est, ada_train, color='blue')\n",
        "plt.plot(range_est, ada_test, color='green')\n",
        "plt.xlabel('No. weak learners')\n",
        "plt.ylabel('Accuracy')\n",
        "plt.tight_layout()\n",
        "plt.savefig('fig-adaboost-acc.png', dpi=300)\n",
        "plt.show()\n"
      ],
      "execution_count": 0,
      "outputs": []
    },
    {
      "cell_type": "code",
      "metadata": {
        "id": "DU678N1541dI",
        "colab_type": "code",
        "colab": {}
      },
      "source": [
        "ada16 = AdaBoostClassifier(base_estimator=tree, n_estimators=16)\n",
        "ada16.fit(X_train, y_train)\n",
        "y_train_pred = ada16.predict(X_train)\n",
        "y_test_pred = ada16.predict(X_test)\n",
        "\n",
        "ada_train = accuracy_score(y_train, y_train_pred)\n",
        "ada_test = accuracy_score(y_test, y_test_pred)\n",
        "print('[AdaBoost16] accuracy-train = %.3f, accuracy-test = %.3f' % \n",
        "      (ada_train, ada_test))\n",
        "\n",
        "plot_decision_regions(X=X_combined, y=y_combined, \n",
        "                      classifier=ada16,\n",
        "                      test_idx=range(len(y_train), \n",
        "                                     len(y_train) + len(y_test)))\n",
        "plt.title('AdaBoost16')\n",
        "plt.tight_layout()\n",
        "plt.savefig('fig-adaboost16-boundary.png', dpi=300)\n",
        "plt.show()\n",
        "\n",
        "plot_decision_regions(X=X_combined, y=y_combined, \n",
        "                      classifier=ada16, soft=True,\n",
        "                      test_idx=range(len(y_train), \n",
        "                                     len(y_train) + len(y_test)))\n",
        "plt.title('AdaBoost16 (soft)')\n",
        "plt.tight_layout()\n",
        "plt.savefig('fig-adaboost16-boundary-soft.png', dpi=300)\n",
        "plt.show()"
      ],
      "execution_count": 0,
      "outputs": []
    },
    {
      "cell_type": "code",
      "metadata": {
        "id": "yH8_BNqF45ng",
        "colab_type": "code",
        "colab": {}
      },
      "source": [
        "clf_labels =['Voting', 'Bagging', 'AdaBoost16']\n",
        "colors = ['orange', 'blue', 'green']\n",
        "linestyles = ['-', '-', '-']\n",
        "for clf, label, clr, ls in zip([best_vt, bag, ada16], clf_labels, colors, linestyles):\n",
        "    # assume positive class is at dimension 2\n",
        "    clf.fit(X_train, y_train)\n",
        "    y_pred = clf.predict_proba(X_test)[:, 1]\n",
        "    \n",
        "    fpr, tpr, thresholds = roc_curve(y_true=y_test, y_score=y_pred)\n",
        "    roc_auc = auc(x=fpr, y=tpr)\n",
        "    \n",
        "    plt.plot(fpr, tpr, color=clr, linestyle=ls, label='%s (auc=%0.2f)' % (label, roc_auc))\n",
        "    plt.legend(loc='lower right')\n",
        "    plt.plot([0, 1], [0, 1], linestyle='--', color='gray')\n",
        "    plt.xlim([-0.02, 0.6])\n",
        "    plt.ylim([-0.1, 1.1])\n",
        "    plt.xlabel('FPR')\n",
        "    plt.ylabel('TPR')\n",
        "plt.grid()\n",
        "plt.tight_layout()\n",
        "plt.savefig('fig-ensemble-roc.png', dpi=300)\n",
        "plt.show()\n"
      ],
      "execution_count": 0,
      "outputs": []
    }
  ]
}