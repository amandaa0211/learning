{
  "nbformat": 4,
  "nbformat_minor": 0,
  "metadata": {
    "colab": {
      "name": "ML_L3_DecisionTree_RandomForest.ipynb",
      "version": "0.3.2",
      "provenance": [],
      "collapsed_sections": []
    },
    "kernelspec": {
      "name": "python3",
      "display_name": "Python 3"
    }
  },
  "cells": [
    {
      "cell_type": "code",
      "metadata": {
        "id": "XEs_ClGEr4xm",
        "colab_type": "code",
        "colab": {
          "base_uri": "https://localhost:8080/",
          "height": 360
        },
        "outputId": "2de1eaf3-8429-4a43-d974-dc8b1458c74d"
      },
      "source": [
        "# -*- coding: utf-8 -*-\n",
        "\"\"\"\n",
        "Spyder Editor\n",
        "\n",
        "This is a temporary script file.\n",
        "\"\"\"\n",
        "\n",
        "import numpy as np\n",
        "import pandas as pd\n",
        "from IPython.display import display\n",
        "from sklearn.model_selection import train_test_split\n",
        "from sklearn.datasets import load_wine\n",
        "\n",
        "df = pd.read_csv('http://mlr.cs.umass.edu/ml/machine-learning-databases/wine/wine.data', header=None)\n",
        "\n",
        "df.columns = ['Class label', 'Alcohol', 'Malic acid', 'Ash',\n",
        "              'Alcalinity of ash', 'Magnesium', 'Total phenols',\n",
        "              'Flavanoids', 'Nonflavanoid phenols', 'Proanthocyanins', \n",
        "              'Color intensity', 'Hue', 'OD280/OD315 of diluted wines', 'Proline']\n",
        "\n",
        "display(df.head())\n",
        "\n",
        "X = df.drop('Class label', 1)\n",
        "y = df['Class label']\n",
        "#X, y = df.iloc[:, 1:].values, df.iloc[:, 0].values\n",
        "\n",
        "# split X into training and testing sets\n",
        "X_train, X_test, y_train, y_test = train_test_split(\n",
        "    X, y, test_size=0.3, random_state=0)\n",
        "print('#Training data points: %d' % X_train.shape[0])\n",
        "print('#Testing data points: %d' % X_test.shape[0])\n",
        "print('Class labels:', np.unique(y))\n",
        "from sklearn.tree import DecisionTreeClassifier\n",
        "\n",
        "# criterion : impurity function\n",
        "# max_depth : maximum depth of tree\n",
        "# random_state : seed of random number generator\n",
        "tree = DecisionTreeClassifier(criterion='entropy', \n",
        "                              max_depth=3, \n",
        "                              random_state=0)\n",
        "tree.fit(X_train, y_train)\n",
        "y_pred = tree.predict(X_test)\n",
        "print('Misclassified samples: %d' % (y_test != y_pred).sum())\n",
        "print('Accuracy (tree): %.2f' % ((y_test == y_pred).sum() / y_test.shape[0]))\n",
        "\n",
        "# a more convenient way to evaluate a trained model is to use the sklearn.metrics \n",
        "from sklearn.metrics import accuracy_score\n",
        "print('Accuracy (tree, sklearn): %.2f' % accuracy_score(y_test, y_pred))\n",
        "from sklearn.tree import export_graphviz\n",
        "from sklearn.externals.six import StringIO  \n",
        "\n",
        "dot_data = StringIO()\n",
        "\n",
        "export_graphviz(tree, out_file='tree.dot ',\n",
        "           #     dot -Tpng tree.dot -o fig-tree.png\n",
        "                feature_names=X.columns.values)\n",
        "\n"
      ],
      "execution_count": 4,
      "outputs": [
        {
          "output_type": "display_data",
          "data": {
            "text/html": [
              "<div>\n",
              "<style scoped>\n",
              "    .dataframe tbody tr th:only-of-type {\n",
              "        vertical-align: middle;\n",
              "    }\n",
              "\n",
              "    .dataframe tbody tr th {\n",
              "        vertical-align: top;\n",
              "    }\n",
              "\n",
              "    .dataframe thead th {\n",
              "        text-align: right;\n",
              "    }\n",
              "</style>\n",
              "<table border=\"1\" class=\"dataframe\">\n",
              "  <thead>\n",
              "    <tr style=\"text-align: right;\">\n",
              "      <th></th>\n",
              "      <th>Class label</th>\n",
              "      <th>Alcohol</th>\n",
              "      <th>Malic acid</th>\n",
              "      <th>Ash</th>\n",
              "      <th>Alcalinity of ash</th>\n",
              "      <th>Magnesium</th>\n",
              "      <th>Total phenols</th>\n",
              "      <th>Flavanoids</th>\n",
              "      <th>Nonflavanoid phenols</th>\n",
              "      <th>Proanthocyanins</th>\n",
              "      <th>Color intensity</th>\n",
              "      <th>Hue</th>\n",
              "      <th>OD280/OD315 of diluted wines</th>\n",
              "      <th>Proline</th>\n",
              "    </tr>\n",
              "  </thead>\n",
              "  <tbody>\n",
              "    <tr>\n",
              "      <th>0</th>\n",
              "      <td>1</td>\n",
              "      <td>14.23</td>\n",
              "      <td>1.71</td>\n",
              "      <td>2.43</td>\n",
              "      <td>15.6</td>\n",
              "      <td>127</td>\n",
              "      <td>2.80</td>\n",
              "      <td>3.06</td>\n",
              "      <td>0.28</td>\n",
              "      <td>2.29</td>\n",
              "      <td>5.64</td>\n",
              "      <td>1.04</td>\n",
              "      <td>3.92</td>\n",
              "      <td>1065</td>\n",
              "    </tr>\n",
              "    <tr>\n",
              "      <th>1</th>\n",
              "      <td>1</td>\n",
              "      <td>13.20</td>\n",
              "      <td>1.78</td>\n",
              "      <td>2.14</td>\n",
              "      <td>11.2</td>\n",
              "      <td>100</td>\n",
              "      <td>2.65</td>\n",
              "      <td>2.76</td>\n",
              "      <td>0.26</td>\n",
              "      <td>1.28</td>\n",
              "      <td>4.38</td>\n",
              "      <td>1.05</td>\n",
              "      <td>3.40</td>\n",
              "      <td>1050</td>\n",
              "    </tr>\n",
              "    <tr>\n",
              "      <th>2</th>\n",
              "      <td>1</td>\n",
              "      <td>13.16</td>\n",
              "      <td>2.36</td>\n",
              "      <td>2.67</td>\n",
              "      <td>18.6</td>\n",
              "      <td>101</td>\n",
              "      <td>2.80</td>\n",
              "      <td>3.24</td>\n",
              "      <td>0.30</td>\n",
              "      <td>2.81</td>\n",
              "      <td>5.68</td>\n",
              "      <td>1.03</td>\n",
              "      <td>3.17</td>\n",
              "      <td>1185</td>\n",
              "    </tr>\n",
              "    <tr>\n",
              "      <th>3</th>\n",
              "      <td>1</td>\n",
              "      <td>14.37</td>\n",
              "      <td>1.95</td>\n",
              "      <td>2.50</td>\n",
              "      <td>16.8</td>\n",
              "      <td>113</td>\n",
              "      <td>3.85</td>\n",
              "      <td>3.49</td>\n",
              "      <td>0.24</td>\n",
              "      <td>2.18</td>\n",
              "      <td>7.80</td>\n",
              "      <td>0.86</td>\n",
              "      <td>3.45</td>\n",
              "      <td>1480</td>\n",
              "    </tr>\n",
              "    <tr>\n",
              "      <th>4</th>\n",
              "      <td>1</td>\n",
              "      <td>13.24</td>\n",
              "      <td>2.59</td>\n",
              "      <td>2.87</td>\n",
              "      <td>21.0</td>\n",
              "      <td>118</td>\n",
              "      <td>2.80</td>\n",
              "      <td>2.69</td>\n",
              "      <td>0.39</td>\n",
              "      <td>1.82</td>\n",
              "      <td>4.32</td>\n",
              "      <td>1.04</td>\n",
              "      <td>2.93</td>\n",
              "      <td>735</td>\n",
              "    </tr>\n",
              "  </tbody>\n",
              "</table>\n",
              "</div>"
            ],
            "text/plain": [
              "   Class label  Alcohol  ...  OD280/OD315 of diluted wines  Proline\n",
              "0            1    14.23  ...                          3.92     1065\n",
              "1            1    13.20  ...                          3.40     1050\n",
              "2            1    13.16  ...                          3.17     1185\n",
              "3            1    14.37  ...                          3.45     1480\n",
              "4            1    13.24  ...                          2.93      735\n",
              "\n",
              "[5 rows x 14 columns]"
            ]
          },
          "metadata": {
            "tags": []
          }
        },
        {
          "output_type": "stream",
          "text": [
            "#Training data points: 124\n",
            "#Testing data points: 54\n",
            "Class labels: [1 2 3]\n",
            "Misclassified samples: 2\n",
            "Accuracy (tree): 0.96\n",
            "Accuracy (tree, sklearn): 0.96\n"
          ],
          "name": "stdout"
        }
      ]
    },
    {
      "cell_type": "code",
      "metadata": {
        "id": "K3fdnVXCtFv9",
        "colab_type": "code",
        "colab": {
          "base_uri": "https://localhost:8080/",
          "height": 34
        },
        "outputId": "2c5a4011-3ec5-48c9-e746-848db7b93808"
      },
      "source": [
        "from sklearn.ensemble import RandomForestClassifier\n",
        "\n",
        "# criterion : impurity function\n",
        "# n_estimators :  number of decision trees\n",
        "# random_state : seed used by the random number generator\n",
        "# n_jobs : number of cores for parallelism\n",
        "forest = RandomForestClassifier(criterion='entropy',\n",
        "                                n_estimators=200, \n",
        "                                random_state=1,\n",
        "                                n_jobs=2)\n",
        "forest.fit(X_train, y_train)\n",
        "\n",
        "y_pred = forest.predict(X_test)\n",
        "print('Accuracy (forest): %.2f' % accuracy_score(y_test, y_pred))"
      ],
      "execution_count": 5,
      "outputs": [
        {
          "output_type": "stream",
          "text": [
            "Accuracy (forest): 0.98\n"
          ],
          "name": "stdout"
        }
      ]
    },
    {
      "cell_type": "code",
      "metadata": {
        "id": "zf7BhNYovRIJ",
        "colab_type": "code",
        "colab": {
          "base_uri": "https://localhost:8080/",
          "height": 518
        },
        "outputId": "1188d869-8b0e-4b16-ef26-a2cc9bb2f8ff"
      },
      "source": [
        "# inline plotting instead of popping out\n",
        "%matplotlib inline\n",
        "\n",
        "import numpy as np\n",
        "import matplotlib.pyplot as plt\n",
        "\n",
        "importances = forest.feature_importances_\n",
        "# get sort indices in descending order\n",
        "indices = np.argsort(importances)[::-1]\n",
        "\n",
        "for f in range(X_train.shape[1]):\n",
        "    print(\"%2d) %-*s %f\" % (f + 1, 30, \n",
        "                            X.columns.values[indices[f]], \n",
        "                            importances[indices[f]]))\n",
        "\n",
        "plt.figure()\n",
        "plt.title('Feature Importances')\n",
        "plt.bar(range(X_train.shape[1]),\n",
        "        importances[indices],\n",
        "        align='center',\n",
        "        alpha=0.5)\n",
        "\n",
        "plt.xticks(range(X_train.shape[1]), \n",
        "           X.columns.values[indices],rotation=90)\n",
        "plt.tight_layout()\n",
        "plt.savefig('fig-forest-feature-importances.png', dpi=300)\n",
        "plt.show()"
      ],
      "execution_count": 12,
      "outputs": [
        {
          "output_type": "stream",
          "text": [
            " 1) Flavanoids                     0.188736\n",
            " 2) OD280/OD315 of diluted wines   0.162445\n",
            " 3) Proline                        0.158390\n",
            " 4) Color intensity                0.154620\n",
            " 5) Alcohol                        0.102004\n",
            " 6) Hue                            0.065470\n",
            " 7) Total phenols                  0.049602\n",
            " 8) Alcalinity of ash              0.030379\n",
            " 9) Proanthocyanins                0.023283\n",
            "10) Malic acid                     0.022439\n",
            "11) Magnesium                      0.018800\n",
            "12) Nonflavanoid phenols           0.012507\n",
            "13) Ash                            0.011325\n"
          ],
          "name": "stdout"
        },
        {
          "output_type": "display_data",
          "data": {
            "image/png": "[encoded data removed]",
            "text/plain": [
              "<Figure size 432x288 with 1 Axes>"
            ]
          },
          "metadata": {
            "tags": []
          }
        }
      ]
    },
    {
      "cell_type": "code",
      "metadata": {
        "id": "OUiQ3nBaxArp",
        "colab_type": "code",
        "colab": {
          "base_uri": "https://localhost:8080/",
          "height": 297
        },
        "outputId": "d21b10a9-e50b-4872-d6a8-632535ce3ece"
      },
      "source": [
        "import matplotlib.pyplot as plt\n",
        "\n",
        "Z_forest = X[['Flavanoids', 'OD280/OD315 of diluted wines']].values\n",
        "\n",
        "colors = ['r', 'b', 'g']\n",
        "markers = ['s', 'x', 'o']\n",
        "for l, c, m in zip(np.unique(y.values), colors, markers):\n",
        "    plt.scatter(Z_forest[y.values==l, 0], \n",
        "                Z_forest[y.values==l, 1], \n",
        "                c=c, label=l, marker=m)\n",
        "\n",
        "plt.title('Z_forest')\n",
        "plt.xlabel('Flavanoids')\n",
        "plt.ylabel('OD280/OD315 of diluted wines')\n",
        "plt.legend(loc='lower right')\n",
        "plt.tight_layout()\n",
        "plt.savefig('fig-forest-z.png', dpi=300)\n",
        "plt.show()"
      ],
      "execution_count": 13,
      "outputs": [
        {
          "output_type": "display_data",
          "data": {
            "image/png": "[encoded data removed]",
            "text/plain": [
              "<Figure size 432x288 with 1 Axes>"
            ]
          },
          "metadata": {
            "tags": []
          }
        }
      ]
    },
    {
      "cell_type": "code",
      "metadata": {
        "id": "jdkuxKI3xxML",
        "colab_type": "code",
        "colab": {
          "base_uri": "https://localhost:8080/",
          "height": 51
        },
        "outputId": "b30ccf3b-a9ca-459c-89a4-8d47bc1d7ae9"
      },
      "source": [
        "from sklearn.feature_selection import SelectFromModel\n",
        "\n",
        "# put prefitted RandomForestClassifier \"forest\" into SelectFromModel\n",
        "sfm = SelectFromModel(forest, threshold=0.16, prefit=True)\n",
        "Z_forest_alt = sfm.transform(X)\n",
        "\n",
        "for f in range(Z_forest_alt.shape[1]): #mdf\n",
        "    print(\"%2d) %-*s %f\" % (f + 1, 30, \n",
        "                            X.columns.values[indices[f]], \n",
        "                            importances[indices[f]]))"
      ],
      "execution_count": 14,
      "outputs": [
        {
          "output_type": "stream",
          "text": [
            " 1) Flavanoids                     0.188736\n",
            " 2) OD280/OD315 of diluted wines   0.162445\n"
          ],
          "name": "stdout"
        }
      ]
    }
  ]
}