{
  "nbformat": 4,
  "nbformat_minor": 0,
  "metadata": {
    "colab": {
      "name": "W4_Assignment2_R^2(未解決).ipynb",
      "version": "0.3.2",
      "provenance": []
    },
    "kernelspec": {
      "name": "python3",
      "display_name": "Python 3"
    }
  },
  "cells": [
    {
      "cell_type": "markdown",
      "metadata": {
        "id": "T9xUTkVSbJ7x",
        "colab_type": "text"
      },
      "source": [
        "# **Assignmant**\n",
        "In this assignment, you need to train regression models on Beijing PM2.5 dataset in winter of 2014.\n",
        "\n",
        "You have to implement\n",
        "\n",
        "\n",
        "1.   a Linear(Polynomial) regressor\n",
        "2.   a Random Forest regressor\n",
        "\n",
        "You need to show a residual plot for each of your model on both training data and testing data.\n",
        "\n",
        "R2 score need to be larger than 0.72 on testing data.\n",
        "\n",
        "NOTE:\n",
        "Submit to iLMS with your code file (Lab04-2_{student_id}.ipynb)\n",
        "Your .ipynb file should contains the output figures(the residual plots)"
      ]
    },
    {
      "cell_type": "code",
      "metadata": {
        "id": "Z5zS8AJpbIz_",
        "colab_type": "code",
        "colab": {
          "base_uri": "https://localhost:8080/",
          "height": 204
        },
        "outputId": "b62d8417-7278-4982-a217-9bd655ba7e1a"
      },
      "source": [
        "# Do not modify\n",
        "import pandas as pd\n",
        "import numpy as np\n",
        "import matplotlib.pyplot as plt\n",
        "from IPython.display import Image\n",
        "from sklearn.model_selection import train_test_split\n",
        "from sklearn.preprocessing import StandardScaler\n",
        "from sklearn.metrics import r2_score\n",
        "from sklearn.metrics import mean_squared_error\n",
        "\n",
        "# inline plotting instead of popping out\n",
        "%matplotlib inline\n",
        "\n",
        "df = pd.read_csv(\n",
        "    'http://archive.ics.uci.edu/ml/machine-learning-databases/00381/PRSA_data_2010.1.1-2014.12.31.csv',\n",
        "    sep=',')\n",
        "df.head()\n",
        "# Do not modify\n",
        "df = df.drop(['cbwd'], axis=1)  # drop non-scalar feature\n",
        "df = df.dropna(axis=0, how='any')  # drop samples who has nan feature\n",
        "df.head()\n",
        "# Do not modify\n",
        "idx = np.logical_or(\n",
        "    np.logical_and(df['year'].values == 2014, df['month'].values < 3),\n",
        "    np.logical_and(df['year'].values == 2013, df['month'].values == 12))\n",
        "X = df.loc[idx].drop('pm2.5', axis=1)\n",
        "y = df.loc[idx]['pm2.5'].values\n",
        "X.head()"
      ],
      "execution_count": 2,
      "outputs": [
        {
          "output_type": "execute_result",
          "data": {
            "text/html": [
              "<div>\n",
              "<style scoped>\n",
              "    .dataframe tbody tr th:only-of-type {\n",
              "        vertical-align: middle;\n",
              "    }\n",
              "\n",
              "    .dataframe tbody tr th {\n",
              "        vertical-align: top;\n",
              "    }\n",
              "\n",
              "    .dataframe thead th {\n",
              "        text-align: right;\n",
              "    }\n",
              "</style>\n",
              "<table border=\"1\" class=\"dataframe\">\n",
              "  <thead>\n",
              "    <tr style=\"text-align: right;\">\n",
              "      <th></th>\n",
              "      <th>No</th>\n",
              "      <th>year</th>\n",
              "      <th>month</th>\n",
              "      <th>day</th>\n",
              "      <th>hour</th>\n",
              "      <th>DEWP</th>\n",
              "      <th>TEMP</th>\n",
              "      <th>PRES</th>\n",
              "      <th>Iws</th>\n",
              "      <th>Is</th>\n",
              "      <th>Ir</th>\n",
              "    </tr>\n",
              "  </thead>\n",
              "  <tbody>\n",
              "    <tr>\n",
              "      <th>34320</th>\n",
              "      <td>34321</td>\n",
              "      <td>2013</td>\n",
              "      <td>12</td>\n",
              "      <td>1</td>\n",
              "      <td>0</td>\n",
              "      <td>-13</td>\n",
              "      <td>-2.0</td>\n",
              "      <td>1026.0</td>\n",
              "      <td>0.89</td>\n",
              "      <td>0</td>\n",
              "      <td>0</td>\n",
              "    </tr>\n",
              "    <tr>\n",
              "      <th>34321</th>\n",
              "      <td>34322</td>\n",
              "      <td>2013</td>\n",
              "      <td>12</td>\n",
              "      <td>1</td>\n",
              "      <td>1</td>\n",
              "      <td>-14</td>\n",
              "      <td>-3.0</td>\n",
              "      <td>1025.0</td>\n",
              "      <td>3.13</td>\n",
              "      <td>0</td>\n",
              "      <td>0</td>\n",
              "    </tr>\n",
              "    <tr>\n",
              "      <th>34322</th>\n",
              "      <td>34323</td>\n",
              "      <td>2013</td>\n",
              "      <td>12</td>\n",
              "      <td>1</td>\n",
              "      <td>2</td>\n",
              "      <td>-13</td>\n",
              "      <td>-3.0</td>\n",
              "      <td>1025.0</td>\n",
              "      <td>0.89</td>\n",
              "      <td>0</td>\n",
              "      <td>0</td>\n",
              "    </tr>\n",
              "    <tr>\n",
              "      <th>34323</th>\n",
              "      <td>34324</td>\n",
              "      <td>2013</td>\n",
              "      <td>12</td>\n",
              "      <td>1</td>\n",
              "      <td>3</td>\n",
              "      <td>-13</td>\n",
              "      <td>-4.0</td>\n",
              "      <td>1025.0</td>\n",
              "      <td>0.89</td>\n",
              "      <td>0</td>\n",
              "      <td>0</td>\n",
              "    </tr>\n",
              "    <tr>\n",
              "      <th>34324</th>\n",
              "      <td>34325</td>\n",
              "      <td>2013</td>\n",
              "      <td>12</td>\n",
              "      <td>1</td>\n",
              "      <td>4</td>\n",
              "      <td>-13</td>\n",
              "      <td>-3.0</td>\n",
              "      <td>1025.0</td>\n",
              "      <td>1.78</td>\n",
              "      <td>0</td>\n",
              "      <td>0</td>\n",
              "    </tr>\n",
              "  </tbody>\n",
              "</table>\n",
              "</div>"
            ],
            "text/plain": [
              "          No  year  month  day  hour  DEWP  TEMP    PRES   Iws  Is  Ir\n",
              "34320  34321  2013     12    1     0   -13  -2.0  1026.0  0.89   0   0\n",
              "34321  34322  2013     12    1     1   -14  -3.0  1025.0  3.13   0   0\n",
              "34322  34323  2013     12    1     2   -13  -3.0  1025.0  0.89   0   0\n",
              "34323  34324  2013     12    1     3   -13  -4.0  1025.0  0.89   0   0\n",
              "34324  34325  2013     12    1     4   -13  -3.0  1025.0  1.78   0   0"
            ]
          },
          "metadata": {
            "tags": []
          },
          "execution_count": 2
        }
      ]
    },
    {
      "cell_type": "code",
      "metadata": {
        "id": "8kM4SqMdclMJ",
        "colab_type": "code",
        "colab": {
          "base_uri": "https://localhost:8080/",
          "height": 51
        },
        "outputId": "e80432e8-254e-4654-bb53-2ae70084ebae"
      },
      "source": [
        "from sklearn.linear_model import LinearRegression\n",
        "import numpy as np\n",
        "X_train, X_test, y_train, y_test = train_test_split(\n",
        "    X, y, test_size=0.3, random_state=0)\n",
        "sc = StandardScaler()\n",
        "sc.fit(X_train)\n",
        "X_train_std = sc.transform(X_train)\n",
        "X_test_std = sc.transform(X_test)\n",
        "# Training\n",
        "\n",
        "slr = LinearRegression()\n",
        "slr.fit(X_train_std, y_train)\n",
        "\n",
        "# Testing\n",
        "\n",
        "y_train_pred = slr.predict(X_train_std)\n",
        "y_test_pred = slr.predict(X_test_std)\n",
        "\n",
        "print('MSE train: %.2f, test: %.2f' %\n",
        "      (mean_squared_error(y_train, y_train_pred),\n",
        "       mean_squared_error(y_test, y_test_pred)))\n",
        "print('R^2 train: %.2f, test: %.2f' % (r2_score(y_train, y_train_pred),\n",
        "                                       r2_score(y_test, y_test_pred)))"
      ],
      "execution_count": 6,
      "outputs": [
        {
          "output_type": "stream",
          "text": [
            "MSE train: 8211.82, test: 8747.70\n",
            "R^2 train: 0.48, test: 0.44\n"
          ],
          "name": "stdout"
        }
      ]
    },
    {
      "cell_type": "code",
      "metadata": {
        "id": "AIDWcwCWdFeB",
        "colab_type": "code",
        "colab": {
          "base_uri": "https://localhost:8080/",
          "height": 297
        },
        "outputId": "626d2b86-f3bc-4016-b186-0ede5a380ae2"
      },
      "source": [
        "plt.scatter(\n",
        "    y_train_pred,\n",
        "    y_train_pred - y_train,\n",
        "    c='blue',\n",
        "    marker='o',\n",
        "    label='Training data')\n",
        "plt.scatter(\n",
        "    y_test_pred,\n",
        "    y_test_pred - y_test,\n",
        "    c='lightgreen',\n",
        "    marker='s',\n",
        "    label='Test data')\n",
        "plt.xlabel('Predicted values')\n",
        "plt.ylabel('Residuals')\n",
        "plt.legend(loc='upper left')\n",
        "plt.hlines(y=0, xmin=-10, xmax=50, lw=2, color='red')\n",
        "plt.xlim([-10, 50])\n",
        "plt.tight_layout()\n",
        "plt.show()"
      ],
      "execution_count": 7,
      "outputs": [
        {
          "output_type": "display_data",
          "data": {
            "image/png": "[encoded data removed]",
            "text/plain": [
              "<Figure size 432x288 with 1 Axes>"
            ]
          },
          "metadata": {
            "tags": []
          }
        }
      ]
    },
    {
      "cell_type": "code",
      "metadata": {
        "id": "T2NSxCcsdVqH",
        "colab_type": "code",
        "colab": {
          "base_uri": "https://localhost:8080/",
          "height": 255
        },
        "outputId": "e34ec547-b0d2-4c3c-e65a-5bacadc29f72"
      },
      "source": [
        "from sklearn.preprocessing import PolynomialFeatures\n",
        "regr = LinearRegression()\n",
        "quadratic = PolynomialFeatures(degree=2)\n",
        "cubic = PolynomialFeatures(degree=3)\n",
        "print('[Linear]')\n",
        "print('#Features: %d' % X_train_std.shape[1])\n",
        "regr = regr.fit(X_train_std, y_train)\n",
        "y_train_pred = regr.predict(X_train_std)\n",
        "y_test_pred = regr.predict(X_test_std)\n",
        "print('MSE train: %.2f, test: %.2f' %\n",
        "      (mean_squared_error(y_train, y_train_pred),\n",
        "       mean_squared_error(y_test, y_test_pred)))\n",
        "print('R^2 train: %.2f, test: %.2f' % (r2_score(y_train, y_train_pred),\n",
        "                                       r2_score(y_test, y_test_pred)))\n",
        "\n",
        "print('\\n[Quadratic]')\n",
        "X_quad_train = quadratic.fit_transform(X_train_std)\n",
        "X_quad_test = quadratic.fit_transform(X_test_std)\n",
        "print('#Features: %d' % X_quad_train.shape[1])\n",
        "regr = regr.fit(X_quad_train, y_train)\n",
        "y_train_pred = regr.predict(X_quad_train)\n",
        "y_test_pred = regr.predict(X_quad_test)\n",
        "print('MSE train: %.2f, test: %.2f' %\n",
        "      (mean_squared_error(y_train, y_train_pred),\n",
        "       mean_squared_error(y_test, y_test_pred)))\n",
        "print('R^2 train: %.2f, test: %.2f' % (r2_score(y_train, y_train_pred),\n",
        "                                       r2_score(y_test, y_test_pred)))\n",
        "\n",
        "print('\\n[Cubic]')\n",
        "X_cubic_train = cubic.fit_transform(X_train_std)\n",
        "X_cubic_test = cubic.fit_transform(X_test_std)\n",
        "print('#Features: %d' % X_cubic_train.shape[1])\n",
        "regr = regr.fit(X_cubic_train, y_train)\n",
        "y_train_pred = regr.predict(X_cubic_train)\n",
        "y_test_pred = regr.predict(X_cubic_test)\n",
        "print('MSE train: %.2f, test: %.2f' %\n",
        "      (mean_squared_error(y_train, y_train_pred),\n",
        "       mean_squared_error(y_test, y_test_pred)))\n",
        "print('R^2 train: %.2f, test: %.2f' % (r2_score(y_train, y_train_pred),\n",
        "                                       r2_score(y_test, y_test_pred)))"
      ],
      "execution_count": 9,
      "outputs": [
        {
          "output_type": "stream",
          "text": [
            "[Linear]\n",
            "#Features: 11\n",
            "MSE train: 8211.82, test: 8747.70\n",
            "R^2 train: 0.48, test: 0.44\n",
            "\n",
            "[Quadratic]\n",
            "#Features: 78\n",
            "MSE train: 5475.55, test: 3558220034491781480448.00\n",
            "R^2 train: 0.66, test: -228340825491364320.00\n",
            "\n",
            "[Cubic]\n",
            "#Features: 364\n",
            "MSE train: 3648.77, test: 82472025161611750670336.00\n",
            "R^2 train: 0.77, test: -5292458061278022656.00\n"
          ],
          "name": "stdout"
        }
      ]
    },
    {
      "cell_type": "code",
      "metadata": {
        "id": "bMRYjV-5eGPY",
        "colab_type": "code",
        "colab": {
          "base_uri": "https://localhost:8080/",
          "height": 331
        },
        "outputId": "35ec49cc-6084-41d2-e1f1-3465979489e8"
      },
      "source": [
        "from sklearn.ensemble import RandomForestRegressor\n",
        "\n",
        "forest = RandomForestRegressor(\n",
        "    n_estimators=1000, criterion='mse', random_state=1, n_jobs=-1)\n",
        "forest.fit(X_train, y_train)\n",
        "y_train_pred = forest.predict(X_train)\n",
        "y_test_pred = forest.predict(X_test)\n",
        "\n",
        "print('MSE train: %.2f, test: %.2f' %\n",
        "      (mean_squared_error(y_train, y_train_pred),\n",
        "       mean_squared_error(y_test, y_test_pred)))\n",
        "print('R^2 train: %.2f, test: %.2f' % (r2_score(y_train, y_train_pred),\n",
        "                                       r2_score(y_test, y_test_pred)))\n",
        "\n",
        "# Residual plot\n",
        "plt.scatter(\n",
        "    y_train_pred,\n",
        "    y_train_pred - y_train,\n",
        "    c='blue',\n",
        "    marker='o',\n",
        "    label='Training data')\n",
        "plt.scatter(\n",
        "    y_test_pred, y_test_pred - y_test, c='green', marker='s', label='Test data')\n",
        "\n",
        "plt.xlabel('Predicted values')\n",
        "plt.ylabel('Residuals')\n",
        "plt.legend(loc='upper left')\n",
        "plt.hlines(y=0, xmin=-10, xmax=50, lw=2, color='red')\n",
        "plt.xlim([-10, 50])\n",
        "plt.tight_layout()\n",
        "plt.show()"
      ],
      "execution_count": 10,
      "outputs": [
        {
          "output_type": "stream",
          "text": [
            "MSE train: 201.67, test: 1485.75\n",
            "R^2 train: 0.99, test: 0.90\n"
          ],
          "name": "stdout"
        },
        {
          "output_type": "display_data",
          "data": {
            "image/png": "[encoded data removed]",
            "text/plain": [
              "<Figure size 432x288 with 1 Axes>"
            ]
          },
          "metadata": {
            "tags": []
          }
        }
      ]
    }
  ]
}